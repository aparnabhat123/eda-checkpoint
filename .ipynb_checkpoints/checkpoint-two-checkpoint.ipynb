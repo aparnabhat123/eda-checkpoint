{
 "cells": [
  {
   "cell_type": "markdown",
   "metadata": {
    "azdata_cell_guid": "151601c9-ca7a-412e-af80-c62a87e0837e"
   },
   "source": [
    "# Checkpoint Two: Exploratory Data Analysis\n",
    "\n",
    "Now that your chosen dataset is approved, it is time to start working on your analysis. Use this notebook to perform your EDA and make notes where directed to as you work.\n",
    "\n",
    "# Information about the datasets selected for my project\n",
    "Here I have selected 4 datasets from Zillow . The first 3 datasets i.e. bedroom_cnt_3, bedroom_cnt_4,bedroom_cnt_5 \n",
    "show the prices for the 3,4 and 5 bedrooms respectively across all states in US from 2000 till 2021 wih data points\n",
    "for each month. The fourth dataset i.e Rentals provides the rental value for houses from 2014 till 2021.\n",
    "\n",
    "\n",
    "## Getting Started\n",
    "\n",
    "Since we have not provided your dataset for you, you will need to load the necessary files in this repository. Make sure to include a link back to the original dataset here as well.\n",
    "\n",
    "My dataset:\n",
    "\n",
    "Your first task in EDA is to import necessary libraries and create a dataframe(s). Make note in the form of code comments of what your thought process is as you work on this setup task."
   ]
  },
  {
   "cell_type": "markdown",
   "metadata": {},
   "source": [
    "\n"
   ]
  },
  {
   "cell_type": "code",
   "execution_count": 1,
   "metadata": {
    "azdata_cell_guid": "7b503e37-6df5-4433-acfb-678b1346db14"
   },
   "outputs": [
    {
     "data": {
      "text/html": [
       "<div>\n",
       "<style scoped>\n",
       "    .dataframe tbody tr th:only-of-type {\n",
       "        vertical-align: middle;\n",
       "    }\n",
       "\n",
       "    .dataframe tbody tr th {\n",
       "        vertical-align: top;\n",
       "    }\n",
       "\n",
       "    .dataframe thead th {\n",
       "        text-align: right;\n",
       "    }\n",
       "</style>\n",
       "<table border=\"1\" class=\"dataframe\">\n",
       "  <thead>\n",
       "    <tr style=\"text-align: right;\">\n",
       "      <th></th>\n",
       "      <th>RegionID</th>\n",
       "      <th>SizeRank</th>\n",
       "      <th>RegionName</th>\n",
       "      <th>RegionType</th>\n",
       "      <th>StateName</th>\n",
       "      <th>State</th>\n",
       "      <th>Metro</th>\n",
       "      <th>CountyName</th>\n",
       "      <th>2000-01-31</th>\n",
       "      <th>2000-02-29</th>\n",
       "      <th>...</th>\n",
       "      <th>2021-05-31</th>\n",
       "      <th>2021-06-30</th>\n",
       "      <th>2021-07-31</th>\n",
       "      <th>2021-08-31</th>\n",
       "      <th>2021-09-30</th>\n",
       "      <th>2021-10-31</th>\n",
       "      <th>2021-11-30</th>\n",
       "      <th>2021-12-31</th>\n",
       "      <th>2022-01-31</th>\n",
       "      <th>2022-02-28</th>\n",
       "    </tr>\n",
       "  </thead>\n",
       "  <tbody>\n",
       "    <tr>\n",
       "      <th>0</th>\n",
       "      <td>6181</td>\n",
       "      <td>0</td>\n",
       "      <td>New York</td>\n",
       "      <td>City</td>\n",
       "      <td>NY</td>\n",
       "      <td>NY</td>\n",
       "      <td>New York-Newark-Jersey City</td>\n",
       "      <td>Queens County</td>\n",
       "      <td>244603.0</td>\n",
       "      <td>246352.0</td>\n",
       "      <td>...</td>\n",
       "      <td>681347.0</td>\n",
       "      <td>684588.0</td>\n",
       "      <td>688403.0</td>\n",
       "      <td>692223.0</td>\n",
       "      <td>697387.0</td>\n",
       "      <td>702658.0</td>\n",
       "      <td>706913.0</td>\n",
       "      <td>710416.0</td>\n",
       "      <td>714635.0</td>\n",
       "      <td>719489.0</td>\n",
       "    </tr>\n",
       "    <tr>\n",
       "      <th>1</th>\n",
       "      <td>12447</td>\n",
       "      <td>1</td>\n",
       "      <td>Los Angeles</td>\n",
       "      <td>City</td>\n",
       "      <td>CA</td>\n",
       "      <td>CA</td>\n",
       "      <td>Los Angeles-Long Beach-Anaheim</td>\n",
       "      <td>Los Angeles County</td>\n",
       "      <td>231986.0</td>\n",
       "      <td>232160.0</td>\n",
       "      <td>...</td>\n",
       "      <td>831832.0</td>\n",
       "      <td>852626.0</td>\n",
       "      <td>875416.0</td>\n",
       "      <td>888956.0</td>\n",
       "      <td>898739.0</td>\n",
       "      <td>901715.0</td>\n",
       "      <td>906546.0</td>\n",
       "      <td>912349.0</td>\n",
       "      <td>917568.0</td>\n",
       "      <td>926537.0</td>\n",
       "    </tr>\n",
       "    <tr>\n",
       "      <th>2</th>\n",
       "      <td>39051</td>\n",
       "      <td>2</td>\n",
       "      <td>Houston</td>\n",
       "      <td>City</td>\n",
       "      <td>TX</td>\n",
       "      <td>TX</td>\n",
       "      <td>Houston-The Woodlands-Sugar Land</td>\n",
       "      <td>Harris County</td>\n",
       "      <td>99262.0</td>\n",
       "      <td>99298.0</td>\n",
       "      <td>...</td>\n",
       "      <td>202697.0</td>\n",
       "      <td>206875.0</td>\n",
       "      <td>211398.0</td>\n",
       "      <td>216410.0</td>\n",
       "      <td>220341.0</td>\n",
       "      <td>223825.0</td>\n",
       "      <td>226237.0</td>\n",
       "      <td>228949.0</td>\n",
       "      <td>231762.0</td>\n",
       "      <td>235041.0</td>\n",
       "    </tr>\n",
       "    <tr>\n",
       "      <th>3</th>\n",
       "      <td>17426</td>\n",
       "      <td>3</td>\n",
       "      <td>Chicago</td>\n",
       "      <td>City</td>\n",
       "      <td>IL</td>\n",
       "      <td>IL</td>\n",
       "      <td>Chicago-Naperville-Elgin</td>\n",
       "      <td>Cook County</td>\n",
       "      <td>160262.0</td>\n",
       "      <td>160569.0</td>\n",
       "      <td>...</td>\n",
       "      <td>287717.0</td>\n",
       "      <td>290038.0</td>\n",
       "      <td>292608.0</td>\n",
       "      <td>296048.0</td>\n",
       "      <td>298416.0</td>\n",
       "      <td>300746.0</td>\n",
       "      <td>303575.0</td>\n",
       "      <td>306241.0</td>\n",
       "      <td>308798.0</td>\n",
       "      <td>310317.0</td>\n",
       "    </tr>\n",
       "    <tr>\n",
       "      <th>4</th>\n",
       "      <td>6915</td>\n",
       "      <td>4</td>\n",
       "      <td>San Antonio</td>\n",
       "      <td>City</td>\n",
       "      <td>TX</td>\n",
       "      <td>TX</td>\n",
       "      <td>San Antonio-New Braunfels</td>\n",
       "      <td>Bexar County</td>\n",
       "      <td>103065.0</td>\n",
       "      <td>103228.0</td>\n",
       "      <td>...</td>\n",
       "      <td>217295.0</td>\n",
       "      <td>222642.0</td>\n",
       "      <td>227443.0</td>\n",
       "      <td>232714.0</td>\n",
       "      <td>236207.0</td>\n",
       "      <td>240013.0</td>\n",
       "      <td>243324.0</td>\n",
       "      <td>247602.0</td>\n",
       "      <td>251837.0</td>\n",
       "      <td>255859.0</td>\n",
       "    </tr>\n",
       "  </tbody>\n",
       "</table>\n",
       "<p>5 rows × 274 columns</p>\n",
       "</div>"
      ],
      "text/plain": [
       "   RegionID  SizeRank   RegionName RegionType StateName State  \\\n",
       "0      6181         0     New York       City        NY    NY   \n",
       "1     12447         1  Los Angeles       City        CA    CA   \n",
       "2     39051         2      Houston       City        TX    TX   \n",
       "3     17426         3      Chicago       City        IL    IL   \n",
       "4      6915         4  San Antonio       City        TX    TX   \n",
       "\n",
       "                              Metro          CountyName  2000-01-31  \\\n",
       "0       New York-Newark-Jersey City       Queens County    244603.0   \n",
       "1    Los Angeles-Long Beach-Anaheim  Los Angeles County    231986.0   \n",
       "2  Houston-The Woodlands-Sugar Land       Harris County     99262.0   \n",
       "3          Chicago-Naperville-Elgin         Cook County    160262.0   \n",
       "4         San Antonio-New Braunfels        Bexar County    103065.0   \n",
       "\n",
       "   2000-02-29  ...  2021-05-31  2021-06-30  2021-07-31  2021-08-31  \\\n",
       "0    246352.0  ...    681347.0    684588.0    688403.0    692223.0   \n",
       "1    232160.0  ...    831832.0    852626.0    875416.0    888956.0   \n",
       "2     99298.0  ...    202697.0    206875.0    211398.0    216410.0   \n",
       "3    160569.0  ...    287717.0    290038.0    292608.0    296048.0   \n",
       "4    103228.0  ...    217295.0    222642.0    227443.0    232714.0   \n",
       "\n",
       "   2021-09-30  2021-10-31  2021-11-30  2021-12-31  2022-01-31  2022-02-28  \n",
       "0    697387.0    702658.0    706913.0    710416.0    714635.0    719489.0  \n",
       "1    898739.0    901715.0    906546.0    912349.0    917568.0    926537.0  \n",
       "2    220341.0    223825.0    226237.0    228949.0    231762.0    235041.0  \n",
       "3    298416.0    300746.0    303575.0    306241.0    308798.0    310317.0  \n",
       "4    236207.0    240013.0    243324.0    247602.0    251837.0    255859.0  \n",
       "\n",
       "[5 rows x 274 columns]"
      ]
     },
     "execution_count": 1,
     "metadata": {},
     "output_type": "execute_result"
    }
   ],
   "source": [
    "import numpy as np\n",
    "import pandas as pd\n",
    "import matplotlib.pyplot as plt\n",
    "import seaborn as sns\n",
    "%matplotlib inline\n",
    "\n",
    "\n",
    "bedroom_cnt_3 = pd.read_csv('City_zhvi_bdrmcnt_3.csv')\n",
    "bedroom_cnt_4 = pd.read_csv('City_zhvi_bdrmcnt_4.csv')\n",
    "bedroom_cnt_5 = pd.read_csv('City_zhvi_bdrmcnt_5.csv')\n",
    "Rentals = pd.read_csv('Rentals.csv')\n",
    "# head of the data\n",
    "bedroom_cnt_3.head()\n"
   ]
  },
  {
   "cell_type": "code",
   "execution_count": 2,
   "metadata": {},
   "outputs": [
    {
     "data": {
      "text/html": [
       "<div>\n",
       "<style scoped>\n",
       "    .dataframe tbody tr th:only-of-type {\n",
       "        vertical-align: middle;\n",
       "    }\n",
       "\n",
       "    .dataframe tbody tr th {\n",
       "        vertical-align: top;\n",
       "    }\n",
       "\n",
       "    .dataframe thead th {\n",
       "        text-align: right;\n",
       "    }\n",
       "</style>\n",
       "<table border=\"1\" class=\"dataframe\">\n",
       "  <thead>\n",
       "    <tr style=\"text-align: right;\">\n",
       "      <th></th>\n",
       "      <th>RegionID</th>\n",
       "      <th>SizeRank</th>\n",
       "      <th>RegionName</th>\n",
       "      <th>RegionType</th>\n",
       "      <th>StateName</th>\n",
       "      <th>State</th>\n",
       "      <th>Metro</th>\n",
       "      <th>CountyName</th>\n",
       "      <th>2000-01-31</th>\n",
       "      <th>2000-02-29</th>\n",
       "      <th>...</th>\n",
       "      <th>2021-05-31</th>\n",
       "      <th>2021-06-30</th>\n",
       "      <th>2021-07-31</th>\n",
       "      <th>2021-08-31</th>\n",
       "      <th>2021-09-30</th>\n",
       "      <th>2021-10-31</th>\n",
       "      <th>2021-11-30</th>\n",
       "      <th>2021-12-31</th>\n",
       "      <th>2022-01-31</th>\n",
       "      <th>2022-02-28</th>\n",
       "    </tr>\n",
       "  </thead>\n",
       "  <tbody>\n",
       "    <tr>\n",
       "      <th>0</th>\n",
       "      <td>6181</td>\n",
       "      <td>0</td>\n",
       "      <td>New York</td>\n",
       "      <td>City</td>\n",
       "      <td>NY</td>\n",
       "      <td>NY</td>\n",
       "      <td>New York-Newark-Jersey City</td>\n",
       "      <td>Queens County</td>\n",
       "      <td>281913.0</td>\n",
       "      <td>284054.0</td>\n",
       "      <td>...</td>\n",
       "      <td>814607.0</td>\n",
       "      <td>818453.0</td>\n",
       "      <td>822507.0</td>\n",
       "      <td>826079.0</td>\n",
       "      <td>831321.0</td>\n",
       "      <td>837541.0</td>\n",
       "      <td>842353.0</td>\n",
       "      <td>846140.0</td>\n",
       "      <td>850836.0</td>\n",
       "      <td>856407.0</td>\n",
       "    </tr>\n",
       "    <tr>\n",
       "      <th>1</th>\n",
       "      <td>12447</td>\n",
       "      <td>1</td>\n",
       "      <td>Los Angeles</td>\n",
       "      <td>City</td>\n",
       "      <td>CA</td>\n",
       "      <td>CA</td>\n",
       "      <td>Los Angeles-Long Beach-Anaheim</td>\n",
       "      <td>Los Angeles County</td>\n",
       "      <td>302966.0</td>\n",
       "      <td>303264.0</td>\n",
       "      <td>...</td>\n",
       "      <td>1024613.0</td>\n",
       "      <td>1051789.0</td>\n",
       "      <td>1082237.0</td>\n",
       "      <td>1101777.0</td>\n",
       "      <td>1116468.0</td>\n",
       "      <td>1122728.0</td>\n",
       "      <td>1130758.0</td>\n",
       "      <td>1139317.0</td>\n",
       "      <td>1146978.0</td>\n",
       "      <td>1159833.0</td>\n",
       "    </tr>\n",
       "    <tr>\n",
       "      <th>2</th>\n",
       "      <td>39051</td>\n",
       "      <td>2</td>\n",
       "      <td>Houston</td>\n",
       "      <td>City</td>\n",
       "      <td>TX</td>\n",
       "      <td>TX</td>\n",
       "      <td>Houston-The Woodlands-Sugar Land</td>\n",
       "      <td>Harris County</td>\n",
       "      <td>146158.0</td>\n",
       "      <td>146051.0</td>\n",
       "      <td>...</td>\n",
       "      <td>266528.0</td>\n",
       "      <td>272232.0</td>\n",
       "      <td>278566.0</td>\n",
       "      <td>285363.0</td>\n",
       "      <td>290496.0</td>\n",
       "      <td>294865.0</td>\n",
       "      <td>297839.0</td>\n",
       "      <td>301319.0</td>\n",
       "      <td>304851.0</td>\n",
       "      <td>309027.0</td>\n",
       "    </tr>\n",
       "    <tr>\n",
       "      <th>3</th>\n",
       "      <td>17426</td>\n",
       "      <td>3</td>\n",
       "      <td>Chicago</td>\n",
       "      <td>City</td>\n",
       "      <td>IL</td>\n",
       "      <td>IL</td>\n",
       "      <td>Chicago-Naperville-Elgin</td>\n",
       "      <td>Cook County</td>\n",
       "      <td>183251.0</td>\n",
       "      <td>183735.0</td>\n",
       "      <td>...</td>\n",
       "      <td>343807.0</td>\n",
       "      <td>347434.0</td>\n",
       "      <td>351409.0</td>\n",
       "      <td>355924.0</td>\n",
       "      <td>358823.0</td>\n",
       "      <td>361845.0</td>\n",
       "      <td>365341.0</td>\n",
       "      <td>368879.0</td>\n",
       "      <td>372032.0</td>\n",
       "      <td>373879.0</td>\n",
       "    </tr>\n",
       "    <tr>\n",
       "      <th>4</th>\n",
       "      <td>6915</td>\n",
       "      <td>4</td>\n",
       "      <td>San Antonio</td>\n",
       "      <td>City</td>\n",
       "      <td>TX</td>\n",
       "      <td>TX</td>\n",
       "      <td>San Antonio-New Braunfels</td>\n",
       "      <td>Bexar County</td>\n",
       "      <td>155136.0</td>\n",
       "      <td>155438.0</td>\n",
       "      <td>...</td>\n",
       "      <td>290501.0</td>\n",
       "      <td>297885.0</td>\n",
       "      <td>305126.0</td>\n",
       "      <td>312282.0</td>\n",
       "      <td>317040.0</td>\n",
       "      <td>321856.0</td>\n",
       "      <td>326452.0</td>\n",
       "      <td>332210.0</td>\n",
       "      <td>338086.0</td>\n",
       "      <td>343481.0</td>\n",
       "    </tr>\n",
       "  </tbody>\n",
       "</table>\n",
       "<p>5 rows × 274 columns</p>\n",
       "</div>"
      ],
      "text/plain": [
       "   RegionID  SizeRank   RegionName RegionType StateName State  \\\n",
       "0      6181         0     New York       City        NY    NY   \n",
       "1     12447         1  Los Angeles       City        CA    CA   \n",
       "2     39051         2      Houston       City        TX    TX   \n",
       "3     17426         3      Chicago       City        IL    IL   \n",
       "4      6915         4  San Antonio       City        TX    TX   \n",
       "\n",
       "                              Metro          CountyName  2000-01-31  \\\n",
       "0       New York-Newark-Jersey City       Queens County    281913.0   \n",
       "1    Los Angeles-Long Beach-Anaheim  Los Angeles County    302966.0   \n",
       "2  Houston-The Woodlands-Sugar Land       Harris County    146158.0   \n",
       "3          Chicago-Naperville-Elgin         Cook County    183251.0   \n",
       "4         San Antonio-New Braunfels        Bexar County    155136.0   \n",
       "\n",
       "   2000-02-29  ...  2021-05-31  2021-06-30  2021-07-31  2021-08-31  \\\n",
       "0    284054.0  ...    814607.0    818453.0    822507.0    826079.0   \n",
       "1    303264.0  ...   1024613.0   1051789.0   1082237.0   1101777.0   \n",
       "2    146051.0  ...    266528.0    272232.0    278566.0    285363.0   \n",
       "3    183735.0  ...    343807.0    347434.0    351409.0    355924.0   \n",
       "4    155438.0  ...    290501.0    297885.0    305126.0    312282.0   \n",
       "\n",
       "   2021-09-30  2021-10-31  2021-11-30  2021-12-31  2022-01-31  2022-02-28  \n",
       "0    831321.0    837541.0    842353.0    846140.0    850836.0    856407.0  \n",
       "1   1116468.0   1122728.0   1130758.0   1139317.0   1146978.0   1159833.0  \n",
       "2    290496.0    294865.0    297839.0    301319.0    304851.0    309027.0  \n",
       "3    358823.0    361845.0    365341.0    368879.0    372032.0    373879.0  \n",
       "4    317040.0    321856.0    326452.0    332210.0    338086.0    343481.0  \n",
       "\n",
       "[5 rows x 274 columns]"
      ]
     },
     "execution_count": 2,
     "metadata": {},
     "output_type": "execute_result"
    }
   ],
   "source": [
    "bedroom_cnt_4.head()"
   ]
  },
  {
   "cell_type": "code",
   "execution_count": 3,
   "metadata": {},
   "outputs": [
    {
     "data": {
      "text/html": [
       "<div>\n",
       "<style scoped>\n",
       "    .dataframe tbody tr th:only-of-type {\n",
       "        vertical-align: middle;\n",
       "    }\n",
       "\n",
       "    .dataframe tbody tr th {\n",
       "        vertical-align: top;\n",
       "    }\n",
       "\n",
       "    .dataframe thead th {\n",
       "        text-align: right;\n",
       "    }\n",
       "</style>\n",
       "<table border=\"1\" class=\"dataframe\">\n",
       "  <thead>\n",
       "    <tr style=\"text-align: right;\">\n",
       "      <th></th>\n",
       "      <th>RegionID</th>\n",
       "      <th>SizeRank</th>\n",
       "      <th>RegionName</th>\n",
       "      <th>RegionType</th>\n",
       "      <th>StateName</th>\n",
       "      <th>State</th>\n",
       "      <th>Metro</th>\n",
       "      <th>CountyName</th>\n",
       "      <th>2000-01-31</th>\n",
       "      <th>2000-02-29</th>\n",
       "      <th>...</th>\n",
       "      <th>2021-05-31</th>\n",
       "      <th>2021-06-30</th>\n",
       "      <th>2021-07-31</th>\n",
       "      <th>2021-08-31</th>\n",
       "      <th>2021-09-30</th>\n",
       "      <th>2021-10-31</th>\n",
       "      <th>2021-11-30</th>\n",
       "      <th>2021-12-31</th>\n",
       "      <th>2022-01-31</th>\n",
       "      <th>2022-02-28</th>\n",
       "    </tr>\n",
       "  </thead>\n",
       "  <tbody>\n",
       "    <tr>\n",
       "      <th>0</th>\n",
       "      <td>6181</td>\n",
       "      <td>0</td>\n",
       "      <td>New York</td>\n",
       "      <td>City</td>\n",
       "      <td>NY</td>\n",
       "      <td>NY</td>\n",
       "      <td>New York-Newark-Jersey City</td>\n",
       "      <td>Queens County</td>\n",
       "      <td>380874.0</td>\n",
       "      <td>383476.0</td>\n",
       "      <td>...</td>\n",
       "      <td>1106122.0</td>\n",
       "      <td>1108887.0</td>\n",
       "      <td>1113415.0</td>\n",
       "      <td>1119033.0</td>\n",
       "      <td>1127588.0</td>\n",
       "      <td>1135993.0</td>\n",
       "      <td>1141426.0</td>\n",
       "      <td>1144941.0</td>\n",
       "      <td>1149847.0</td>\n",
       "      <td>1155490.0</td>\n",
       "    </tr>\n",
       "    <tr>\n",
       "      <th>1</th>\n",
       "      <td>12447</td>\n",
       "      <td>1</td>\n",
       "      <td>Los Angeles</td>\n",
       "      <td>City</td>\n",
       "      <td>CA</td>\n",
       "      <td>CA</td>\n",
       "      <td>Los Angeles-Long Beach-Anaheim</td>\n",
       "      <td>Los Angeles County</td>\n",
       "      <td>575484.0</td>\n",
       "      <td>575555.0</td>\n",
       "      <td>...</td>\n",
       "      <td>1865200.0</td>\n",
       "      <td>1906444.0</td>\n",
       "      <td>1959852.0</td>\n",
       "      <td>1998784.0</td>\n",
       "      <td>2030083.0</td>\n",
       "      <td>2043034.0</td>\n",
       "      <td>2056156.0</td>\n",
       "      <td>2071969.0</td>\n",
       "      <td>2084513.0</td>\n",
       "      <td>2106651.0</td>\n",
       "    </tr>\n",
       "    <tr>\n",
       "      <th>2</th>\n",
       "      <td>39051</td>\n",
       "      <td>2</td>\n",
       "      <td>Houston</td>\n",
       "      <td>City</td>\n",
       "      <td>TX</td>\n",
       "      <td>TX</td>\n",
       "      <td>Houston-The Woodlands-Sugar Land</td>\n",
       "      <td>Harris County</td>\n",
       "      <td>251790.0</td>\n",
       "      <td>251744.0</td>\n",
       "      <td>...</td>\n",
       "      <td>428534.0</td>\n",
       "      <td>437467.0</td>\n",
       "      <td>447056.0</td>\n",
       "      <td>457096.0</td>\n",
       "      <td>464565.0</td>\n",
       "      <td>470878.0</td>\n",
       "      <td>475003.0</td>\n",
       "      <td>479898.0</td>\n",
       "      <td>485051.0</td>\n",
       "      <td>490842.0</td>\n",
       "    </tr>\n",
       "    <tr>\n",
       "      <th>3</th>\n",
       "      <td>17426</td>\n",
       "      <td>3</td>\n",
       "      <td>Chicago</td>\n",
       "      <td>City</td>\n",
       "      <td>IL</td>\n",
       "      <td>IL</td>\n",
       "      <td>Chicago-Naperville-Elgin</td>\n",
       "      <td>Cook County</td>\n",
       "      <td>203916.0</td>\n",
       "      <td>204455.0</td>\n",
       "      <td>...</td>\n",
       "      <td>380860.0</td>\n",
       "      <td>385245.0</td>\n",
       "      <td>390116.0</td>\n",
       "      <td>394683.0</td>\n",
       "      <td>397428.0</td>\n",
       "      <td>400624.0</td>\n",
       "      <td>404299.0</td>\n",
       "      <td>408209.0</td>\n",
       "      <td>411436.0</td>\n",
       "      <td>413342.0</td>\n",
       "    </tr>\n",
       "    <tr>\n",
       "      <th>4</th>\n",
       "      <td>6915</td>\n",
       "      <td>4</td>\n",
       "      <td>San Antonio</td>\n",
       "      <td>City</td>\n",
       "      <td>TX</td>\n",
       "      <td>TX</td>\n",
       "      <td>San Antonio-New Braunfels</td>\n",
       "      <td>Bexar County</td>\n",
       "      <td>218055.0</td>\n",
       "      <td>218571.0</td>\n",
       "      <td>...</td>\n",
       "      <td>378771.0</td>\n",
       "      <td>388742.0</td>\n",
       "      <td>398484.0</td>\n",
       "      <td>407783.0</td>\n",
       "      <td>413653.0</td>\n",
       "      <td>419670.0</td>\n",
       "      <td>425435.0</td>\n",
       "      <td>432522.0</td>\n",
       "      <td>439880.0</td>\n",
       "      <td>446514.0</td>\n",
       "    </tr>\n",
       "  </tbody>\n",
       "</table>\n",
       "<p>5 rows × 274 columns</p>\n",
       "</div>"
      ],
      "text/plain": [
       "   RegionID  SizeRank   RegionName RegionType StateName State  \\\n",
       "0      6181         0     New York       City        NY    NY   \n",
       "1     12447         1  Los Angeles       City        CA    CA   \n",
       "2     39051         2      Houston       City        TX    TX   \n",
       "3     17426         3      Chicago       City        IL    IL   \n",
       "4      6915         4  San Antonio       City        TX    TX   \n",
       "\n",
       "                              Metro          CountyName  2000-01-31  \\\n",
       "0       New York-Newark-Jersey City       Queens County    380874.0   \n",
       "1    Los Angeles-Long Beach-Anaheim  Los Angeles County    575484.0   \n",
       "2  Houston-The Woodlands-Sugar Land       Harris County    251790.0   \n",
       "3          Chicago-Naperville-Elgin         Cook County    203916.0   \n",
       "4         San Antonio-New Braunfels        Bexar County    218055.0   \n",
       "\n",
       "   2000-02-29  ...  2021-05-31  2021-06-30  2021-07-31  2021-08-31  \\\n",
       "0    383476.0  ...   1106122.0   1108887.0   1113415.0   1119033.0   \n",
       "1    575555.0  ...   1865200.0   1906444.0   1959852.0   1998784.0   \n",
       "2    251744.0  ...    428534.0    437467.0    447056.0    457096.0   \n",
       "3    204455.0  ...    380860.0    385245.0    390116.0    394683.0   \n",
       "4    218571.0  ...    378771.0    388742.0    398484.0    407783.0   \n",
       "\n",
       "   2021-09-30  2021-10-31  2021-11-30  2021-12-31  2022-01-31  2022-02-28  \n",
       "0   1127588.0   1135993.0   1141426.0   1144941.0   1149847.0   1155490.0  \n",
       "1   2030083.0   2043034.0   2056156.0   2071969.0   2084513.0   2106651.0  \n",
       "2    464565.0    470878.0    475003.0    479898.0    485051.0    490842.0  \n",
       "3    397428.0    400624.0    404299.0    408209.0    411436.0    413342.0  \n",
       "4    413653.0    419670.0    425435.0    432522.0    439880.0    446514.0  \n",
       "\n",
       "[5 rows x 274 columns]"
      ]
     },
     "execution_count": 3,
     "metadata": {},
     "output_type": "execute_result"
    }
   ],
   "source": [
    "bedroom_cnt_5.head()"
   ]
  },
  {
   "cell_type": "code",
   "execution_count": 4,
   "metadata": {},
   "outputs": [
    {
     "data": {
      "text/html": [
       "<div>\n",
       "<style scoped>\n",
       "    .dataframe tbody tr th:only-of-type {\n",
       "        vertical-align: middle;\n",
       "    }\n",
       "\n",
       "    .dataframe tbody tr th {\n",
       "        vertical-align: top;\n",
       "    }\n",
       "\n",
       "    .dataframe thead th {\n",
       "        text-align: right;\n",
       "    }\n",
       "</style>\n",
       "<table border=\"1\" class=\"dataframe\">\n",
       "  <thead>\n",
       "    <tr style=\"text-align: right;\">\n",
       "      <th></th>\n",
       "      <th>RegionID</th>\n",
       "      <th>RegionName</th>\n",
       "      <th>SizeRank</th>\n",
       "      <th>2014-01</th>\n",
       "      <th>2014-02</th>\n",
       "      <th>2014-03</th>\n",
       "      <th>2014-04</th>\n",
       "      <th>2014-05</th>\n",
       "      <th>2014-06</th>\n",
       "      <th>2014-07</th>\n",
       "      <th>...</th>\n",
       "      <th>2021-05</th>\n",
       "      <th>2021-06</th>\n",
       "      <th>2021-07</th>\n",
       "      <th>2021-08</th>\n",
       "      <th>2021-09</th>\n",
       "      <th>2021-10</th>\n",
       "      <th>2021-11</th>\n",
       "      <th>2021-12</th>\n",
       "      <th>2022-01</th>\n",
       "      <th>2022-02</th>\n",
       "    </tr>\n",
       "  </thead>\n",
       "  <tbody>\n",
       "    <tr>\n",
       "      <th>0</th>\n",
       "      <td>102001</td>\n",
       "      <td>United States</td>\n",
       "      <td>0</td>\n",
       "      <td>1263.0</td>\n",
       "      <td>1274</td>\n",
       "      <td>1275.0</td>\n",
       "      <td>1282</td>\n",
       "      <td>1294</td>\n",
       "      <td>1304</td>\n",
       "      <td>1314</td>\n",
       "      <td>...</td>\n",
       "      <td>1681.0</td>\n",
       "      <td>1713</td>\n",
       "      <td>1748</td>\n",
       "      <td>1781</td>\n",
       "      <td>1805.0</td>\n",
       "      <td>1823.0</td>\n",
       "      <td>1840</td>\n",
       "      <td>1856</td>\n",
       "      <td>1862</td>\n",
       "      <td>1883</td>\n",
       "    </tr>\n",
       "    <tr>\n",
       "      <th>1</th>\n",
       "      <td>394913</td>\n",
       "      <td>New York, NY</td>\n",
       "      <td>1</td>\n",
       "      <td>2222.0</td>\n",
       "      <td>2250</td>\n",
       "      <td>2257.0</td>\n",
       "      <td>2262</td>\n",
       "      <td>2294</td>\n",
       "      <td>2312</td>\n",
       "      <td>2330</td>\n",
       "      <td>...</td>\n",
       "      <td>2503.0</td>\n",
       "      <td>2551</td>\n",
       "      <td>2611</td>\n",
       "      <td>2655</td>\n",
       "      <td>2694.0</td>\n",
       "      <td>2722.0</td>\n",
       "      <td>2747</td>\n",
       "      <td>2778</td>\n",
       "      <td>2810</td>\n",
       "      <td>2860</td>\n",
       "    </tr>\n",
       "    <tr>\n",
       "      <th>2</th>\n",
       "      <td>753899</td>\n",
       "      <td>Los Angeles-Long Beach-Anaheim, CA</td>\n",
       "      <td>2</td>\n",
       "      <td>1808.0</td>\n",
       "      <td>1837</td>\n",
       "      <td>1826.0</td>\n",
       "      <td>1833</td>\n",
       "      <td>1857</td>\n",
       "      <td>1875</td>\n",
       "      <td>1894</td>\n",
       "      <td>...</td>\n",
       "      <td>2514.0</td>\n",
       "      <td>2557</td>\n",
       "      <td>2600</td>\n",
       "      <td>2654</td>\n",
       "      <td>2690.0</td>\n",
       "      <td>2718.0</td>\n",
       "      <td>2742</td>\n",
       "      <td>2765</td>\n",
       "      <td>2784</td>\n",
       "      <td>2816</td>\n",
       "    </tr>\n",
       "    <tr>\n",
       "      <th>3</th>\n",
       "      <td>394463</td>\n",
       "      <td>Chicago, IL</td>\n",
       "      <td>3</td>\n",
       "      <td>1414.0</td>\n",
       "      <td>1426</td>\n",
       "      <td>1427.0</td>\n",
       "      <td>1432</td>\n",
       "      <td>1447</td>\n",
       "      <td>1461</td>\n",
       "      <td>1470</td>\n",
       "      <td>...</td>\n",
       "      <td>1679.0</td>\n",
       "      <td>1702</td>\n",
       "      <td>1721</td>\n",
       "      <td>1740</td>\n",
       "      <td>1746.0</td>\n",
       "      <td>1751.0</td>\n",
       "      <td>1757</td>\n",
       "      <td>1771</td>\n",
       "      <td>1785</td>\n",
       "      <td>1797</td>\n",
       "    </tr>\n",
       "    <tr>\n",
       "      <th>4</th>\n",
       "      <td>394514</td>\n",
       "      <td>Dallas-Fort Worth, TX</td>\n",
       "      <td>4</td>\n",
       "      <td>1084.0</td>\n",
       "      <td>1110</td>\n",
       "      <td>1115.0</td>\n",
       "      <td>1131</td>\n",
       "      <td>1126</td>\n",
       "      <td>1129</td>\n",
       "      <td>1133</td>\n",
       "      <td>...</td>\n",
       "      <td>1503.0</td>\n",
       "      <td>1540</td>\n",
       "      <td>1581</td>\n",
       "      <td>1617</td>\n",
       "      <td>1639.0</td>\n",
       "      <td>1652.0</td>\n",
       "      <td>1670</td>\n",
       "      <td>1680</td>\n",
       "      <td>1688</td>\n",
       "      <td>1699</td>\n",
       "    </tr>\n",
       "  </tbody>\n",
       "</table>\n",
       "<p>5 rows × 101 columns</p>\n",
       "</div>"
      ],
      "text/plain": [
       "   RegionID                          RegionName  SizeRank  2014-01  2014-02  \\\n",
       "0    102001                       United States         0   1263.0     1274   \n",
       "1    394913                        New York, NY         1   2222.0     2250   \n",
       "2    753899  Los Angeles-Long Beach-Anaheim, CA         2   1808.0     1837   \n",
       "3    394463                         Chicago, IL         3   1414.0     1426   \n",
       "4    394514               Dallas-Fort Worth, TX         4   1084.0     1110   \n",
       "\n",
       "   2014-03  2014-04  2014-05  2014-06  2014-07  ...  2021-05  2021-06  \\\n",
       "0   1275.0     1282     1294     1304     1314  ...   1681.0     1713   \n",
       "1   2257.0     2262     2294     2312     2330  ...   2503.0     2551   \n",
       "2   1826.0     1833     1857     1875     1894  ...   2514.0     2557   \n",
       "3   1427.0     1432     1447     1461     1470  ...   1679.0     1702   \n",
       "4   1115.0     1131     1126     1129     1133  ...   1503.0     1540   \n",
       "\n",
       "   2021-07  2021-08  2021-09  2021-10  2021-11  2021-12  2022-01  2022-02  \n",
       "0     1748     1781   1805.0   1823.0     1840     1856     1862     1883  \n",
       "1     2611     2655   2694.0   2722.0     2747     2778     2810     2860  \n",
       "2     2600     2654   2690.0   2718.0     2742     2765     2784     2816  \n",
       "3     1721     1740   1746.0   1751.0     1757     1771     1785     1797  \n",
       "4     1581     1617   1639.0   1652.0     1670     1680     1688     1699  \n",
       "\n",
       "[5 rows x 101 columns]"
      ]
     },
     "execution_count": 4,
     "metadata": {},
     "output_type": "execute_result"
    }
   ],
   "source": [
    "Rentals.head()"
   ]
  },
  {
   "cell_type": "markdown",
   "metadata": {
    "azdata_cell_guid": "129ce836-524b-4ea8-b394-a959f9308d6a"
   },
   "source": [
    "## Get to Know the Numbers\n",
    "\n",
    "Now that you have everything setup, put any code that you use to get to know the dataframe and its rows and columns better in the cell below. You can use whatever techniques you like, except for visualizations. You will put those in a separate section.\n",
    "\n",
    "When working on your code, make sure to leave comments so that your mentors can understand your thought process."
   ]
  },
  {
   "cell_type": "code",
   "execution_count": 5,
   "metadata": {},
   "outputs": [
    {
     "data": {
      "text/plain": [
       "(24063, 274)"
      ]
     },
     "execution_count": 5,
     "metadata": {},
     "output_type": "execute_result"
    }
   ],
   "source": [
    "bedroom_cnt_3.shape   # This tells us how many rows and columns are present in the dataset"
   ]
  },
  {
   "cell_type": "code",
   "execution_count": 6,
   "metadata": {
    "azdata_cell_guid": "0ca2d318-f6e8-43ef-a33e-5304d24d928d",
    "tags": []
   },
   "outputs": [
    {
     "data": {
      "text/plain": [
       "(21721, 274)"
      ]
     },
     "execution_count": 6,
     "metadata": {},
     "output_type": "execute_result"
    }
   ],
   "source": [
    "bedroom_cnt_4.shape"
   ]
  },
  {
   "cell_type": "code",
   "execution_count": 7,
   "metadata": {},
   "outputs": [
    {
     "data": {
      "text/plain": [
       "(17069, 274)"
      ]
     },
     "execution_count": 7,
     "metadata": {},
     "output_type": "execute_result"
    }
   ],
   "source": [
    "bedroom_cnt_5.shape"
   ]
  },
  {
   "cell_type": "code",
   "execution_count": 8,
   "metadata": {},
   "outputs": [
    {
     "data": {
      "text/plain": [
       "(109, 101)"
      ]
     },
     "execution_count": 8,
     "metadata": {},
     "output_type": "execute_result"
    }
   ],
   "source": [
    "Rentals.shape"
   ]
  },
  {
   "cell_type": "code",
   "execution_count": 9,
   "metadata": {},
   "outputs": [
    {
     "data": {
      "text/plain": [
       "Index(['RegionID', 'SizeRank', 'RegionName', 'RegionType', 'StateName',\n",
       "       'State', 'Metro', 'CountyName', '2000-01-31', '2000-02-29',\n",
       "       ...\n",
       "       '2021-05-31', '2021-06-30', '2021-07-31', '2021-08-31', '2021-09-30',\n",
       "       '2021-10-31', '2021-11-30', '2021-12-31', '2022-01-31', '2022-02-28'],\n",
       "      dtype='object', length=274)"
      ]
     },
     "execution_count": 9,
     "metadata": {},
     "output_type": "execute_result"
    }
   ],
   "source": [
    "#To fetch column names in our dataset?\n",
    "bedroom_cnt_3.columns\n"
   ]
  },
  {
   "cell_type": "markdown",
   "metadata": {},
   "source": [
    "By looking at the columns , we can observe that the housing price in each of the datasets is spread across 2000-01-31 till 2022-02-28 which is span of 22 years and the observation is for each month hence resulting in 264 columns/features (22*12).However we do not need column for each date column , hence I would be using Pivot function in Tableau to convert rows in to columns which will result in 2 columns being created instead of 264 (Date column and Value column). "
   ]
  },
  {
   "cell_type": "code",
   "execution_count": 10,
   "metadata": {
    "azdata_cell_guid": "f4565b03-759a-47a8-b58f-01b32a0b4b67"
   },
   "outputs": [],
   "source": [
    "# Converting date columns in to rows\n",
    "bedroom_cnt_3 = bedroom_cnt_3.melt(id_vars=[\"RegionID\", \"SizeRank\", \"RegionName\" ,\"RegionType\", \"StateName\" , \"State\" , \"Metro\"\n",
    "                           , \"CountyName\" ], \n",
    "        var_name=\"Date\", \n",
    "        value_name=\"Value\")"
   ]
  },
  {
   "cell_type": "code",
   "execution_count": 11,
   "metadata": {
    "azdata_cell_guid": "cd64bab1-db4c-4295-820d-c6464b653a3e"
   },
   "outputs": [
    {
     "data": {
      "text/plain": [
       "Index(['RegionID', 'SizeRank', 'RegionName', 'RegionType', 'StateName',\n",
       "       'State', 'Metro', 'CountyName', 'Date', 'Value'],\n",
       "      dtype='object')"
      ]
     },
     "execution_count": 11,
     "metadata": {},
     "output_type": "execute_result"
    }
   ],
   "source": [
    "bedroom_cnt_3.columns "
   ]
  },
  {
   "cell_type": "markdown",
   "metadata": {},
   "source": [
    "Here we can see instead of having column for each date , now we have one single Date column and the corresponding Value column \n",
    "which has the house price value for the respective dates\n"
   ]
  },
  {
   "cell_type": "code",
   "execution_count": 12,
   "metadata": {},
   "outputs": [
    {
     "data": {
      "text/plain": [
       "(6400758, 10)"
      ]
     },
     "execution_count": 12,
     "metadata": {},
     "output_type": "execute_result"
    }
   ],
   "source": [
    "bedroom_cnt_3.shape # columns have reduced from 264 to 10\n"
   ]
  },
  {
   "cell_type": "code",
   "execution_count": 13,
   "metadata": {},
   "outputs": [
    {
     "data": {
      "text/plain": [
       "1602045"
      ]
     },
     "execution_count": 13,
     "metadata": {},
     "output_type": "execute_result"
    }
   ],
   "source": [
    "# check for missing values\n",
    "\n",
    "bedroom_cnt_3['Value'].isna().sum()\n",
    "\n"
   ]
  },
  {
   "cell_type": "markdown",
   "metadata": {},
   "source": [
    "The reason for having so many NULL values is because for many of the cities under different US states ,\n",
    "the data for home price index is not available for initial 5/6 years years. However we have still data available for minimum of \n",
    "10 years for each states and hence we have ample data to derive useful insights. Hence we will not be removing the columns with \n",
    "NULL values for \"Values\" column which shows housing prices data."
   ]
  },
  {
   "cell_type": "code",
   "execution_count": 14,
   "metadata": {},
   "outputs": [
    {
     "name": "stdout",
     "output_type": "stream",
     "text": [
      "<class 'pandas.core.frame.DataFrame'>\n",
      "RangeIndex: 6400758 entries, 0 to 6400757\n",
      "Data columns (total 10 columns):\n",
      " #   Column      Dtype  \n",
      "---  ------      -----  \n",
      " 0   RegionID    int64  \n",
      " 1   SizeRank    int64  \n",
      " 2   RegionName  object \n",
      " 3   RegionType  object \n",
      " 4   StateName   object \n",
      " 5   State       object \n",
      " 6   Metro       object \n",
      " 7   CountyName  object \n",
      " 8   Date        object \n",
      " 9   Value       float64\n",
      "dtypes: float64(1), int64(2), object(7)\n",
      "memory usage: 488.3+ MB\n"
     ]
    }
   ],
   "source": [
    "# (Q) inspect the structure of the data set\n",
    "bedroom_cnt_3.info()"
   ]
  },
  {
   "cell_type": "code",
   "execution_count": 15,
   "metadata": {},
   "outputs": [
    {
     "name": "stdout",
     "output_type": "stream",
     "text": [
      "['2000-01-31', '2000-02-29', '2000-03-31', '2000-04-30', '2000-05-31', '2000-06-30', '2000-07-31', '2000-08-31', '2000-09-30', '2000-10-31', '2000-11-30', '2000-12-31', '2001-01-31', '2001-02-28', '2001-03-31', '2001-04-30', '2001-05-31', '2001-06-30', '2001-07-31', '2001-08-31', '2001-09-30', '2001-10-31', '2001-11-30', '2001-12-31', '2002-01-31', '2002-02-28', '2002-03-31', '2002-04-30', '2002-05-31', '2002-06-30', '2002-07-31', '2002-08-31', '2002-09-30', '2002-10-31', '2002-11-30', '2002-12-31', '2003-01-31', '2003-02-28', '2003-03-31', '2003-04-30', '2003-05-31', '2003-06-30', '2003-07-31', '2003-08-31', '2003-09-30', '2003-10-31', '2003-11-30', '2003-12-31', '2004-01-31', '2004-02-29', '2004-03-31', '2004-04-30', '2004-05-31', '2004-06-30', '2004-07-31', '2004-08-31', '2004-09-30', '2004-10-31', '2004-11-30', '2004-12-31', '2005-01-31', '2005-02-28', '2005-03-31', '2005-04-30', '2005-05-31', '2005-06-30', '2005-07-31', '2005-08-31', '2005-09-30', '2005-10-31', '2005-11-30', '2005-12-31', '2006-01-31', '2006-02-28', '2006-03-31', '2006-04-30', '2006-05-31', '2006-06-30', '2006-07-31', '2006-08-31', '2006-09-30', '2006-10-31', '2006-11-30', '2006-12-31', '2007-01-31', '2007-02-28', '2007-03-31', '2007-04-30', '2007-05-31', '2007-06-30', '2007-07-31', '2007-08-31', '2007-09-30', '2007-10-31', '2007-11-30', '2007-12-31', '2008-01-31', '2008-02-29', '2008-03-31', '2008-04-30', '2008-05-31', '2008-06-30', '2008-07-31', '2008-08-31', '2008-09-30', '2008-10-31', '2008-11-30', '2008-12-31', '2009-01-31', '2009-02-28', '2009-03-31', '2009-04-30', '2009-05-31', '2009-06-30', '2009-07-31', '2009-08-31', '2009-09-30', '2009-10-31', '2009-11-30', '2009-12-31', '2010-01-31', '2010-02-28', '2010-03-31', '2010-04-30', '2010-05-31', '2010-06-30', '2010-07-31', '2010-08-31', '2010-09-30', '2010-10-31', '2010-11-30', '2010-12-31', '2011-01-31', '2011-02-28', '2011-03-31', '2011-04-30', '2011-05-31', '2011-06-30', '2011-07-31', '2011-08-31', '2011-09-30', '2011-10-31', '2011-11-30', '2011-12-31', '2012-01-31', '2012-02-29', '2012-03-31', '2012-04-30', '2012-05-31', '2012-06-30', '2012-07-31', '2012-08-31', '2012-09-30', '2012-10-31', '2012-11-30', '2012-12-31', '2013-01-31', '2013-02-28', '2013-03-31', '2013-04-30', '2013-05-31', '2013-06-30', '2013-07-31', '2013-08-31', '2013-09-30', '2013-10-31', '2013-11-30', '2013-12-31', '2014-01-31', '2014-02-28', '2014-03-31', '2014-04-30', '2014-05-31', '2014-06-30', '2014-07-31', '2014-08-31', '2014-09-30', '2014-10-31', '2014-11-30', '2014-12-31', '2015-01-31', '2015-02-28', '2015-03-31', '2015-04-30', '2015-05-31', '2015-06-30', '2015-07-31', '2015-08-31', '2015-09-30', '2015-10-31', '2015-11-30', '2015-12-31', '2016-01-31', '2016-02-29', '2016-03-31', '2016-04-30', '2016-05-31', '2016-06-30', '2016-07-31', '2016-08-31', '2016-09-30', '2016-10-31', '2016-11-30', '2016-12-31', '2017-01-31', '2017-02-28', '2017-03-31', '2017-04-30', '2017-05-31', '2017-06-30', '2017-07-31', '2017-08-31', '2017-09-30', '2017-10-31', '2017-11-30', '2017-12-31', '2018-01-31', '2018-02-28', '2018-03-31', '2018-04-30', '2018-05-31', '2018-06-30', '2018-07-31', '2018-08-31', '2018-09-30', '2018-10-31', '2018-11-30', '2018-12-31', '2019-01-31', '2019-02-28', '2019-03-31', '2019-04-30', '2019-05-31', '2019-06-30', '2019-07-31', '2019-08-31', '2019-09-30', '2019-10-31', '2019-11-30', '2019-12-31', '2020-01-31', '2020-02-29', '2020-03-31', '2020-04-30', '2020-05-31', '2020-06-30', '2020-07-31', '2020-08-31', '2020-09-30', '2020-10-31', '2020-11-30', '2020-12-31', '2021-01-31', '2021-02-28', '2021-03-31', '2021-04-30', '2021-05-31', '2021-06-30', '2021-07-31', '2021-08-31', '2021-09-30', '2021-10-31', '2021-11-30', '2021-12-31', '2022-01-31', '2022-02-28']\n"
     ]
    }
   ],
   "source": [
    "# print the unique values of the \"Date\" column\n",
    "\n",
    "print(list(bedroom_cnt_3['Date'].unique()))"
   ]
  },
  {
   "cell_type": "code",
   "execution_count": 16,
   "metadata": {},
   "outputs": [
    {
     "data": {
      "text/html": [
       "<div>\n",
       "<style scoped>\n",
       "    .dataframe tbody tr th:only-of-type {\n",
       "        vertical-align: middle;\n",
       "    }\n",
       "\n",
       "    .dataframe tbody tr th {\n",
       "        vertical-align: top;\n",
       "    }\n",
       "\n",
       "    .dataframe thead th {\n",
       "        text-align: right;\n",
       "    }\n",
       "</style>\n",
       "<table border=\"1\" class=\"dataframe\">\n",
       "  <thead>\n",
       "    <tr style=\"text-align: right;\">\n",
       "      <th></th>\n",
       "      <th>RegionID</th>\n",
       "      <th>SizeRank</th>\n",
       "      <th>Value</th>\n",
       "    </tr>\n",
       "  </thead>\n",
       "  <tbody>\n",
       "    <tr>\n",
       "      <th>count</th>\n",
       "      <td>6.400758e+06</td>\n",
       "      <td>6.400758e+06</td>\n",
       "      <td>4.798713e+06</td>\n",
       "    </tr>\n",
       "    <tr>\n",
       "      <th>mean</th>\n",
       "      <td>5.020793e+04</td>\n",
       "      <td>1.423740e+04</td>\n",
       "      <td>1.956280e+05</td>\n",
       "    </tr>\n",
       "    <tr>\n",
       "      <th>std</th>\n",
       "      <td>7.795386e+04</td>\n",
       "      <td>8.783616e+03</td>\n",
       "      <td>1.813836e+05</td>\n",
       "    </tr>\n",
       "    <tr>\n",
       "      <th>min</th>\n",
       "      <td>3.300000e+03</td>\n",
       "      <td>0.000000e+00</td>\n",
       "      <td>5.824000e+03</td>\n",
       "    </tr>\n",
       "    <tr>\n",
       "      <th>25%</th>\n",
       "      <td>1.762700e+04</td>\n",
       "      <td>6.528000e+03</td>\n",
       "      <td>1.020420e+05</td>\n",
       "    </tr>\n",
       "    <tr>\n",
       "      <th>50%</th>\n",
       "      <td>3.216300e+04</td>\n",
       "      <td>1.372400e+04</td>\n",
       "      <td>1.480230e+05</td>\n",
       "    </tr>\n",
       "    <tr>\n",
       "      <th>75%</th>\n",
       "      <td>4.706300e+04</td>\n",
       "      <td>2.173000e+04</td>\n",
       "      <td>2.260050e+05</td>\n",
       "    </tr>\n",
       "    <tr>\n",
       "      <th>max</th>\n",
       "      <td>7.608870e+05</td>\n",
       "      <td>2.944900e+04</td>\n",
       "      <td>6.145580e+06</td>\n",
       "    </tr>\n",
       "  </tbody>\n",
       "</table>\n",
       "</div>"
      ],
      "text/plain": [
       "           RegionID      SizeRank         Value\n",
       "count  6.400758e+06  6.400758e+06  4.798713e+06\n",
       "mean   5.020793e+04  1.423740e+04  1.956280e+05\n",
       "std    7.795386e+04  8.783616e+03  1.813836e+05\n",
       "min    3.300000e+03  0.000000e+00  5.824000e+03\n",
       "25%    1.762700e+04  6.528000e+03  1.020420e+05\n",
       "50%    3.216300e+04  1.372400e+04  1.480230e+05\n",
       "75%    4.706300e+04  2.173000e+04  2.260050e+05\n",
       "max    7.608870e+05  2.944900e+04  6.145580e+06"
      ]
     },
     "execution_count": 16,
     "metadata": {},
     "output_type": "execute_result"
    }
   ],
   "source": [
    "# (Q) High Level Statistics\n",
    "bedroom_cnt_3.describe()"
   ]
  },
  {
   "cell_type": "code",
   "execution_count": 17,
   "metadata": {},
   "outputs": [
    {
     "data": {
      "text/plain": [
       "0"
      ]
     },
     "execution_count": 17,
     "metadata": {},
     "output_type": "execute_result"
    }
   ],
   "source": [
    "bedroom_cnt_3.duplicated().sum() #This confirms there are no duplicate rows in the dataset"
   ]
  },
  {
   "cell_type": "markdown",
   "metadata": {},
   "source": [
    "## Visualize\n",
    "\n",
    "Create any visualizations for your EDA here. Make note in the form of code comments of what your thought process is for your visualizations."
   ]
  },
  {
   "cell_type": "code",
   "execution_count": 26,
   "metadata": {},
   "outputs": [
    {
     "data": {
      "text/plain": [
       "<AxesSubplot:>"
      ]
     },
     "execution_count": 26,
     "metadata": {},
     "output_type": "execute_result"
    },
    {
     "data": {
      "image/png": "[encoded data removed]",
      "text/plain": [
       "<Figure size 432x288 with 1 Axes>"
      ]
     },
     "metadata": {
      "needs_background": "light"
     },
     "output_type": "display_data"
    }
   ],
   "source": [
    "sns.heatmap(bedroom_cnt_3.isnull(), cbar=False)"
   ]
  },
  {
   "cell_type": "markdown",
   "metadata": {},
   "source": [
    "As per the above graph , Value and Metro columns have NULL values. We are not required to visualize correation as for this dataset correlation doesn't make any sense. For the trend analysis and other visualisation , we will be using Tableau"
   ]
  },
  {
   "cell_type": "markdown",
   "metadata": {
    "azdata_cell_guid": "d4931c0c-2c09-4ee1-95d4-73dd08c2f0a6"
   },
   "source": [
    "## Summarize Your Results\n",
    "\n",
    "With your EDA complete, answer the following questions.\n",
    "\n",
    "1. Was there anything surprising about your dataset? \n",
    "2. Do you have any concerns about your dataset? \n",
    "3. Is there anything you want to make note of for the next phase of your analysis, which is cleaning data? "
   ]
  },
  {
   "cell_type": "markdown",
   "metadata": {},
   "source": [
    "### Summary of Analysis \n",
    "\n",
    "RegionId and Rank column is not needed for the analysis as for our analysis we need to create a hierarchy of state and county which will give us unique combination and hence can be dropped\n",
    "\n",
    "StateName and State coulmn have similar values and hence one of those can be dropped\n",
    "\n",
    "Metro column can be dropped , as for our analysis we need to create a hierarchy of state and county which will give us unique combination "
   ]
  },
  {
   "cell_type": "code",
   "execution_count": null,
   "metadata": {},
   "outputs": [],
   "source": []
  }
 ],
 "metadata": {
  "kernelspec": {
   "display_name": "Python 3",
   "language": "python",
   "name": "python3"
  },
  "language_info": {
   "codemirror_mode": {
    "name": "ipython",
    "version": 3
   },
   "file_extension": ".py",
   "mimetype": "text/x-python",
   "name": "python",
   "nbconvert_exporter": "python",
   "pygments_lexer": "ipython3",
   "version": "3.8.8"
  }
 },
 "nbformat": 4,
 "nbformat_minor": 2
}
